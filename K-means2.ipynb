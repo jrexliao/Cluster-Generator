{
 "cells": [
  {
   "cell_type": "code",
   "execution_count": 5,
   "metadata": {
    "collapsed": true
   },
   "outputs": [],
   "source": [
    "import random\n",
    "import math\n",
    "import time\n",
    "import csv\n",
    "from sklearn.cluster import KMeans\n",
    "import numpy as np"
   ]
  },
  {
   "cell_type": "code",
   "execution_count": 50,
   "metadata": {
    "collapsed": false
   },
   "outputs": [],
   "source": [
    "\"\"\"kmeans takes in a list of lists, which represents a list of data\n",
    "points, an integer indicating the number of clusters, a threshold\n",
    "value, a float, of when to stop running the algorithm, and another\n",
    "integer, representing the number of dimensions of the data points. Kmeans\n",
    "outputs a list of clusters, which are represented as lists of data,\n",
    "which are represented as lists.\"\"\"\n",
    "def kmeans2(observations, numclusters, threshold, maxiteration=300):\n",
    "    \"\"\"Initializes all necessary placeholders and other variables,\n",
    "    and starts timing. centers will contain the centers of clusters,\n",
    "    bign is the number of observations, numchanges is number of changes, and\n",
    "    since the algorithm is going through the data the first time, the\n",
    "    number of changes is the number of data. mindist is the minimum\n",
    "    distance that a center is from a given point. member is the membership\n",
    "    of the current data point being investigated, clusters is the final\n",
    "    list of clusters that will be output.\"\"\"\n",
    "    ndim = len(observations[0])\n",
    "    bign = len(observations)\n",
    "    numchanges = bign\n",
    "    membership = []\n",
    "    centertotal = []\n",
    "    numdataperclust = []\n",
    "    centers = []\n",
    "\n",
    "    '''Select data points at regular intervals for initial centers.'''\n",
    "    stride = len(observations) // numclusters\n",
    "    for i in range(0, len(observations), stride):\n",
    "        centers.append(observations[i])\n",
    "    \n",
    "    \"\"\"intializes the members to be -1 so that the first run through\n",
    "    will have a high number of changes so the while loop will run.\"\"\"\n",
    "    for i in range(0, bign):\n",
    "        membership.append(-1)\n",
    "        \n",
    "    numdataperclust = []\n",
    "    for i in range(0,numclusters):\n",
    "        numdataperclust.append(0)\n",
    "        centertotal.append([])\n",
    "        for j in range(0,dim):\n",
    "            centertotal[i].append(0.0)\n",
    "\n",
    "    nloops = 0\n",
    "    \n",
    "    \"\"\"Runs a while loop as long as the proportion of the number of\n",
    "    changes is larger than the user-input threshold value. Then resets\n",
    "    clusters to be empty and adds in the appropriate lists that represent\n",
    "    each cluster. Also resets the number of changes back to 0.\"\"\"\n",
    "    while 1.0 * numchanges / bign > threshold and nloops < maxiteration:\n",
    "        for i in range(0,numclusters):\n",
    "            numdataperclust[i] = 0\n",
    "            for j in range(0, ndim):\n",
    "                centertotal[i][j] = 0\n",
    "        nloops += 1\n",
    "        numchanges = 0\n",
    "        \"\"\"Runs a for loop through the number of data, and marks the\n",
    "        distance between that data point and the first center as the\n",
    "        minimum and sets its membership to 0, so that we have a value\n",
    "        we can compare the rest to.\"\"\"\n",
    "        for i in range(0, bign):\n",
    "            mindist = distance(observations[i], centers[0])\n",
    "            member = 0\n",
    "            \"\"\"Runs a for loop through the number of clusters/the\n",
    "            number of centers, so that we can check the distance between\n",
    "            the data point in question and every cluster center, and if\n",
    "            a center is closer than the present closest one, reset the\n",
    "            smallest distance and candidate membership.\"\"\"\n",
    "            for j in range(1, numclusters):\n",
    "                newdist = distance(observations[i], centers[j])\n",
    "                if newdist < mindist:\n",
    "                    mindist = newdist\n",
    "                    member = j\n",
    "            numdataperclust[member] += 1\n",
    "            '''Aggregate new data point to new cluster center.'''\n",
    "            for j in range(0,ndim):\n",
    "                centertotal[member][j] += observations[i][j]\n",
    "            \"\"\"if the membership has changed, update the membership and\n",
    "            add 1 to the number of changes, and then append the data point\n",
    "            to the correct cluster.\"\"\"\n",
    "            if member != membership[i]:\n",
    "                numchanges += 1\n",
    "                membership[i] = member\n",
    "        \"\"\"update the cluster centers once the clusters have been created.\"\"\"\n",
    "        updateclustercenter(observations, centertotal, numdataperclust, numclusters, centers)\n",
    "                \n",
    "    return centers, membership, numdataperclust"
   ]
  },
  {
   "cell_type": "code",
   "execution_count": 43,
   "metadata": {
    "collapsed": false
   },
   "outputs": [],
   "source": [
    "\"\"\"updateclustercenter takes a list of list of lists, data, which is a \n",
    "list that contains lists, each of which represents one cluster, and in\n",
    "those sub-lists are lists representing data. updateclustercenter also\n",
    "takes the dimensions of the data as an input, an integer. Then it returns\n",
    "a new list of centers that are the average of the data in each cluster.\"\"\"\n",
    "def updateclustercenter(observations, centertotal, numdataperclust, numclusters, centers):\n",
    "    \"\"\"Initialize the centers list to be empty, and the average to be 0.\"\"\"\n",
    "    ndim = len(observations[0])\n",
    "    \n",
    "    for i in range(0, numclusters):\n",
    "        if numdataperclust[i] == 0:\n",
    "            # If there is no data in the cluster, pick random data point as center.\n",
    "            centers[i] = observations[random.randint(0, len(observations) - 1)]\n",
    "        else:\n",
    "            for j in range(0,ndim):\n",
    "                centers[i][j] = centertotal[i][j] / numdataperclust[i]\n",
    "                \n",
    "    #print \"number of data per clusters: \", numdataperclust\n",
    "    #print \"centers: \", centers"
   ]
  },
  {
   "cell_type": "code",
   "execution_count": 31,
   "metadata": {
    "collapsed": true
   },
   "outputs": [],
   "source": [
    "\"\"\"Distance takes two data points, data1 and data2, both of which are lists,\n",
    "and an integer representing the number of dimensions, and calculates the\n",
    "square of the distance betwee those two points.\"\"\"\n",
    "def distance(data1, data2):\n",
    "    \"\"\"sets distance to 0, so we can start accumulating later.\"\"\"\n",
    "    ndim = len(data1)\n",
    "    distance1 = 0.0\n",
    "    \n",
    "    \"\"\"for every dimension, square the difference between the two data\n",
    "    points, and add it to distance to get the square of the distance.\"\"\"\n",
    "    for i in range(0,ndim):\n",
    "        distance1 += (data1[i] - data2[i]) ** 2\n",
    "        \n",
    "    return distance1"
   ]
  },
  {
   "cell_type": "code",
   "execution_count": 61,
   "metadata": {
    "collapsed": true
   },
   "outputs": [],
   "source": [
    "def output(observations, centers, membership, numdataperclust):\n",
    "    writ = []\n",
    "    writ2 = []\n",
    "    \n",
    "    for i in range(0, len(membership)):\n",
    "        writ.append([membership[i]])\n",
    "        \n",
    "    for i in range(0, len(centers)):\n",
    "        writ2.append(centers[i].append(numdataperclust[i]))\n",
    "            \n",
    "    with open(\"kmeanscenters.csv\", 'wb') as resultFile:\n",
    "        wr = csv.writer(resultFile)\n",
    "        wr.writerows(centers)\n",
    "    \n",
    "    with open(\"kmeanslabels.csv\",'wb') as resultFile:\n",
    "        wr = csv.writer(resultFile)\n",
    "        wr.writerows(writ)"
   ]
  },
  {
   "cell_type": "code",
   "execution_count": 33,
   "metadata": {
    "collapsed": true
   },
   "outputs": [],
   "source": [
    "def getinput(filename):\n",
    "    global dim\n",
    "    \n",
    "    data = []\n",
    "    onedata = []\n",
    "    temp = ''\n",
    "    \n",
    "    f = open(filename, 'r')\n",
    "    initdata = f.readlines()\n",
    "    \n",
    "    for i in range(0, len(initdata)):\n",
    "        j = 0\n",
    "        while initdata[i][j] != '\\r':\n",
    "            if initdata[i][j] == ',':\n",
    "                onedata.append(float(temp))\n",
    "                temp = ''\n",
    "            else:\n",
    "                temp += initdata[i][j]\n",
    "            j += 1\n",
    "        onedata.append(float(temp))\n",
    "        data.append(onedata)\n",
    "        onedata = []\n",
    "        temp = ''\n",
    "        \n",
    "    return data"
   ]
  },
  {
   "cell_type": "code",
   "execution_count": 62,
   "metadata": {
    "collapsed": false,
    "scrolled": true
   },
   "outputs": [
    {
     "name": "stdout",
     "output_type": "stream",
     "text": [
      "Run Time:  0.935642957687\n"
     ]
    }
   ],
   "source": [
    "obs = getinput('output.csv')\n",
    "start = time.time()\n",
    "centers, membership, numdataperclust = kmeans2(obs, 12, 0.01, 1)\n",
    "print 'Run Time: ', time.time() - start\n",
    "output(obs, centers, membership, numdataperclust)"
   ]
  },
  {
   "cell_type": "code",
   "execution_count": 37,
   "metadata": {
    "collapsed": false
   },
   "outputs": [
    {
     "name": "stdout",
     "output_type": "stream",
     "text": [
      "1.16072511673\n",
      "Time:  0.449351072311\n",
      "[3 1 8 ..., 4 1 9]\n",
      "[[ 1367.73332841    84.13711582   234.97533221]\n",
      " [  509.21153231  1819.23130272   923.07944303]\n",
      " [  306.52388059   987.97716013  1867.18662329]\n",
      " [ 1034.31758983   351.16470022   892.93428614]\n",
      " [  354.51669248  1051.12263605   421.36711586]\n",
      " [  913.30851226   826.54750281  1459.54575423]\n",
      " [  388.06369215  1913.96386409    42.40049122]\n",
      " [ 1440.00014908   828.72003217  1039.41254967]\n",
      " [  352.43151641    94.41406234   885.15315991]\n",
      " [   32.93987131   256.84597954   117.06483946]\n",
      " [ 1660.2292635    385.3700944    663.24206833]\n",
      " [ 1564.75894216  1010.19979548   100.63964072]]\n",
      "{'n_jobs': 1, 'verbose': 0, 'n_clusters': 12, 'max_iter': 1, 'init': 'k-means++', 'random_state': 0, 'n_init': 10, 'tol': 0.0001, 'precompute_distances': 'auto', 'copy_x': True}\n"
     ]
    }
   ],
   "source": [
    "start = time.time()\n",
    "data = []\n",
    "getinput('output.csv')\n",
    "print time.time() - start\n",
    "start = time.time()\n",
    "kmeans = KMeans(n_clusters=12, random_state=0, max_iter=1).fit(data)\n",
    "end = time.time()\n",
    "print 'Time: ', end - start\n",
    "print kmeans.labels_\n",
    "print kmeans.cluster_centers_\n",
    "print kmeans.get_params(deep=True)"
   ]
  },
  {
   "cell_type": "code",
   "execution_count": null,
   "metadata": {
    "collapsed": true
   },
   "outputs": [],
   "source": []
  }
 ],
 "metadata": {
  "kernelspec": {
   "display_name": "Python 2",
   "language": "python",
   "name": "python2"
  },
  "language_info": {
   "codemirror_mode": {
    "name": "ipython",
    "version": 2
   },
   "file_extension": ".py",
   "mimetype": "text/x-python",
   "name": "python",
   "nbconvert_exporter": "python",
   "pygments_lexer": "ipython2",
   "version": "2.7.11"
  }
 },
 "nbformat": 4,
 "nbformat_minor": 0
}
