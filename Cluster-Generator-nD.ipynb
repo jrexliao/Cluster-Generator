{
 "cells": [
  {
   "cell_type": "code",
   "execution_count": 11,
   "metadata": {
    "collapsed": false
   },
   "outputs": [],
   "source": [
    "import random\n",
    "import math"
   ]
  },
  {
   "cell_type": "code",
   "execution_count": 13,
   "metadata": {
    "collapsed": true
   },
   "outputs": [],
   "source": [
    "max = []\n",
    "levels = 2\n",
    "numclust = []\n",
    "dim = 0"
   ]
  },
  {
   "cell_type": "code",
   "execution_count": 24,
   "metadata": {
    "collapsed": false
   },
   "outputs": [],
   "source": [
    "def clustergenexec(numdata, numcluster, ranges, dimensions, mindist, lvls):\n",
    "    global max\n",
    "    global levels\n",
    "    global numclust\n",
    "    global dim\n",
    "\n",
    "    max = ranges\n",
    "    levels = lvls\n",
    "    numclust = numcluster\n",
    "    dim = dimensions\n",
    "\n",
    "    centers = []\n",
    "    data = []\n",
    "    num = numclust[0]\n",
    "    newradius = 0\n",
    "    for i in range(0, len(ranges)):\n",
    "        newradius += ranges[i] / 2.0\n",
    "    mindist2 = mindist ** 2\n",
    "    newmin = mindist2 / (2.0 * (newradius) / len(ranges))\n",
    "    \n",
    "    i = 0\n",
    "    temp = []\n",
    "    distance = 0\n",
    "\n",
    "    while i < num:\n",
    "        temp = []\n",
    "        for j in range(0, dim):\n",
    "            temp.append(random.random() * ranges[j])\n",
    "        centers.append(temp)\n",
    "        for j in range(0, len(centers) - 1):\n",
    "            for k in range(0, dim):\n",
    "                distance += (centers[j][k] - centers[i][k]) ** 2\n",
    "            if distance < mindist2:\n",
    "                del centers[i]\n",
    "                i -= 1\n",
    "        i += 1\n",
    "    \n",
    "    mindistdiv2 = mindist / 2.0\n",
    "    numperclust = numdata // num\n",
    "    if levels > 0:\n",
    "        for i in range(0, num):\n",
    "            data.append(clustergen(numperclust, mindistdiv2, newmin,\n",
    "            levels - 1, centers[i]))\n",
    "    elif levels == 0:\n",
    "        for i in range(0, num):\n",
    "                data.append(clusterfromcenter(centers[i], numperclust, mindistdiv2))\n",
    "                \n",
    "    return data\n"
   ]
  },
  {
   "cell_type": "code",
   "execution_count": 27,
   "metadata": {
    "collapsed": false
   },
   "outputs": [],
   "source": [
    "def clustergen(numdata, radius, mindist, levels, center):\n",
    "    global numclust\n",
    "    num = numclust[len(numclust) - levels - 1]\n",
    "    temp = []\n",
    "    mindistdiv2 = mindist / 2.0\n",
    "    newmin =  mindist ** 2.0 / (2.0 * radius)\n",
    "    numperclust = numdata // num\n",
    "\n",
    "    if levels == 0:\n",
    "        return clusterhelper(numdata, num, radius, mindist, center)\n",
    "    elif levels != 0:\n",
    "        centers = centergen(num, radius, mindist, center)\n",
    "        for i in range(0, num):\n",
    "            temp += clustergen(numperclust, mindistdiv2, newmin,\n",
    "            levels - 1, centers[i])\n",
    "        return temp\n"
   ]
  },
  {
   "cell_type": "code",
   "execution_count": 28,
   "metadata": {
    "collapsed": false
   },
   "outputs": [],
   "source": [
    "def clusterhelper(numdata, numcluster, radius, mindist, center):\n",
    "    centers = centergen(numcluster, radius, mindist, center)\n",
    "    numperclust = numdata // numcluster\n",
    "    mindistdiv2 = mindist / 2.0\n",
    "    clusters = []\n",
    "\n",
    "    for i in range(0, numcluster):\n",
    "        clusters += clusterfromcenter(centers[i], numperclust, mindistdiv2)\n",
    "\n",
    "    return clusters"
   ]
  },
  {
   "cell_type": "code",
   "execution_count": 29,
   "metadata": {
    "collapsed": false
   },
   "outputs": [],
   "source": [
    "def clusterfromcenter(center, numdata, radius):\n",
    "    data = []\n",
    "    global xmax\n",
    "    global ymax\n",
    "    global zmax\n",
    "    i = 0\n",
    "    temp = []\n",
    "    inbounds = True\n",
    "\n",
    "    while i < numdata:\n",
    "        inbounds = True\n",
    "        temp = gencoord(radius)\n",
    "\n",
    "        for j in range(0, dim):\n",
    "            temp[j] += center[j]\n",
    "            if temp[j] > max[j] or temp[j] < 0:\n",
    "                inbounds = False\n",
    "        if inbounds:\n",
    "            data.append(temp)\n",
    "            i += 1\n",
    "\n",
    "    return data"
   ]
  },
  {
   "cell_type": "code",
   "execution_count": 18,
   "metadata": {
    "collapsed": false
   },
   "outputs": [],
   "source": [
    "def centergen(numcenter, radius, mindist, refpoint):\n",
    "    global dim\n",
    "    global max\n",
    "    centers = []\n",
    "    temp = []\n",
    "    i = 0\n",
    "    inbounds = True\n",
    "    mindist2 = mindist ** 2\n",
    "\n",
    "\n",
    "    while i < numcenter:\n",
    "        tooclose = False\n",
    "        inbounds = True\n",
    "        temp = gencoord(radius/3)\n",
    "        \n",
    "        for j in range(0, dim):\n",
    "            temp[j] += refpoint[j]\n",
    "            if temp[j] > max[j] or temp[j] < 0:\n",
    "                inbounds = False\n",
    "\n",
    "        if  inbounds:\n",
    "            for j in range(0, i):\n",
    "                distance = 0\n",
    "                for k in range(0, dim):\n",
    "                    distance += (centers[j][k] - temp[k]) ** 2\n",
    "                if distance < mindist2:\n",
    "                    tooclose = True\n",
    "            if not tooclose:\n",
    "                centers.append(temp)\n",
    "                i += 1\n",
    "\n",
    "    return centers"
   ]
  },
  {
   "cell_type": "code",
   "execution_count": 32,
   "metadata": {
    "collapsed": false
   },
   "outputs": [],
   "source": [
    "def gencoord(radius):\n",
    "    global dim\n",
    "    temp = []\n",
    "    angle = 0\n",
    "    anglecos = []\n",
    "    anglesin = []\n",
    "\n",
    "    r = random.gauss(0, 1) * radius\n",
    "    for j in range(0, dim - 2):\n",
    "        angle = random.random() * math.pi\n",
    "        anglesin.append(math.sin(angle))\n",
    "        anglecos.append(math.cos(angle))\n",
    "    angle = random.random() * 2 * math.pi\n",
    "    anglesin.append(math.sin(angle))\n",
    "    anglecos.append(math.cos(angle))\n",
    "    \n",
    "    for j in range(0, dim - 1):\n",
    "        temp.append(r)\n",
    "        for k in range(0,j):\n",
    "            temp[j] *= anglesin[k]\n",
    "        temp[j] *= anglecos[j]\n",
    "    temp.append(r * anglesin[dim - 2])\n",
    "    for j in range(0, dim - 1):\n",
    "        temp[dim - 1] *= anglesin[j]\n",
    "\n",
    "    return temp"
   ]
  },
  {
   "cell_type": "code",
   "execution_count": 33,
   "metadata": {
    "collapsed": false,
    "scrolled": true
   },
   "outputs": [
    {
     "name": "stdout",
     "output_type": "stream",
     "text": [
      "This is a clustergenexec test: \n",
      "[[[198.53552571118024, 918.8855763258398, 631.8657226585665], [198.47879186840998, 919.0050882359347, 631.8721575349765], [200.24595812647541, 919.4648114294536, 631.0857055976946], [200.57066718881768, 919.3040024566645, 631.0725894895564], [219.46576819368215, 923.2026954391752, 620.9719251610734], [219.5102534638666, 923.1918634902997, 620.9540754646218], [219.84713566184422, 920.7864994804831, 620.9193682137749], [220.05616001434137, 920.76009109142, 620.9051527707195], [220.06653543617352, 913.6680472737687, 628.2503299131087], [220.0161105375943, 913.4838629565721, 628.4427471586883], [217.26047608769994, 913.697055868107, 628.3159308342653], [217.1237081999795, 913.3395484317194, 628.2804919757801]], [[386.5253063258013, 749.0124400249025, 376.69247110441876], [386.6069486799524, 749.2671466072859, 376.6664312046317], [389.21965219358003, 747.4659270829827, 377.3261143531816], [389.4084552569757, 747.5833526619078, 377.3841568577355], [392.25714438307176, 752.3813632930944, 363.0042772755307], [392.2847030965789, 752.2228962428112, 363.1470880520695], [390.882141738208, 754.2341847882427, 363.2549838992035], [390.5833216558386, 753.9979465240691, 363.1510949611264], [389.19414468594834, 760.3506195703906, 374.56199663658043], [389.35432189101016, 760.3670638902515, 374.5529599056892], [389.56168940243185, 759.3800231724275, 375.0791576549493], [389.994527657587, 759.5106812483274, 375.1560029391284]], [[429.5638797806338, 492.45625854533756, 875.3750480388042], [429.72708872495963, 492.4620296153208, 875.4596913079552], [434.233950431627, 492.722817096934, 874.6498513324858], [434.1606344757019, 492.8041345317509, 874.6269569024796], [443.80074625626526, 484.58481898340006, 869.4678955042556], [443.8590221377648, 484.7557936495038, 869.4009186820962], [444.21034294796584, 484.831012782703, 871.3454650126315], [444.0362410759642, 484.4639612838886, 871.263644630833], [405.5677754591161, 482.91873876743637, 862.4698315058866], [405.5260650719609, 482.9671266719433, 862.3682801398602], [404.53430589948584, 483.090666677149, 861.0365370690082], [404.66391350666925, 483.2365782434877, 860.9550521556479]]] \n",
      "\n"
     ]
    }
   ],
   "source": [
    "\"\"\"dim = 5\n",
    "print \"This is a test coordinate: \", gencoord(5), \"\\n\"\n",
    "dim = 3\n",
    "print \"This is a test coordinate: \", gencoord(3), \"\\n\"\n",
    "dim = 10\n",
    "print \"This is a test coordinate: \", gencoord(10), \"\\n\"\n",
    "dim = 2\n",
    "print \"This is a test coordinate: \", gencoord(0), \"\\n\"\n",
    "dim = 12\n",
    "print \"This is a test coordinate: \", gencoord(23), \"\\n\\n\"\n",
    "\n",
    "dim = 5\n",
    "max = [1000,1000,1000,1000,1000]\n",
    "print \"This is 3 test centers: \\n\", centergen(3, 100, 2, [500,500,500,500,500]), \"\\n\"\n",
    "dim = 3\n",
    "max = [500,500,500]\n",
    "print \"This is 5 test centers: \\n\", centergen(5, 50, 1, [250,250,250]), \"\\n\"\n",
    "dim = 7\n",
    "max = [100,100,100,100,100,100,100]\n",
    "print \"This is 2 test centers: \\n\", centergen(2, 20, 1, [70,70,70,70,70,70,70]), \"\\n\"\n",
    "dim = 2\n",
    "max = [300,300]\n",
    "print \"This is 2 test centers: \\n\", centergen(2, 300, 1, [0,0]), \"\\n\"\n",
    "\n",
    "dim = 3\n",
    "max = [1000,1000,1000]\n",
    "print \"This is a test cluster: \\n\", clusterfromcenter([500,500,500], 5, 20), \"\\n\"\n",
    "dim = 5\n",
    "max = [500,500,500,500,500]\n",
    "print \"This is a test cluster: \\n\", clusterfromcenter([100,100,100,100,100], 4, 25), \"\\n\"\n",
    "dim = 2\n",
    "max = [50,50]\n",
    "print \"This is a test cluster: \\n\", clusterfromcenter([0,0], 6, 10), \"\\n\"\n",
    "\n",
    "dim = 3\n",
    "max = [1000,1000,1000]\n",
    "print \"This is a clusterhelper test: \\n\", clusterhelper(18, 6, 100, 5, [500,500,500]), \"\\n\"\n",
    "dim = 5\n",
    "max = [500,500,500,500,500]\n",
    "print \"This is a clusterhelper test: \\n\", clusterhelper(12, 3, 100, 4, [100,100,100,100,100]), \"\\n\"\n",
    "dim = 2\n",
    "max = [100,100]\n",
    "print \"This is a clusterhelper test: \\n\", clusterhelper(6, 2, 25, 2, [0,0]), \"\\n\"\n",
    "\n",
    "dim = 3\n",
    "max = [1000,1000,1000]\n",
    "numclust = [3,2]\n",
    "print \"This is a clustergen test: \\n\", clustergen(24, 200, 5, 1, [500,500,500]), \"\\n\"\n",
    "dim = 5\n",
    "max = [2000, 2000, 2000, 2000, 2000]\n",
    "numclust = [3,2,2]\n",
    "l = clustergen(36, 500, 7, 2, [1000, 1000, 1000, 1000, 1000])\n",
    "print \"This is a clustergen test: \\n\", l, \"\\n\"\n",
    "\n",
    "dim = 2\n",
    "max = [100,100]\n",
    "numclust = [3,2,2]\n",
    "l = clustergen(24, 50, 4, 2, [0,0])\n",
    "print \"This is a clustergen test: \\n\", l, \"\\n\"\n",
    "\n",
    "\"\"\"\n",
    "l = clustergenexec(36, [3,2,2], [1000, 1000, 1000], 3, 100, 3)\n",
    "print \"This is a clustergenexec test: \\n\", l, \"\\n\"\n"
   ]
  },
  {
   "cell_type": "code",
   "execution_count": null,
   "metadata": {
    "collapsed": true
   },
   "outputs": [],
   "source": []
  }
 ],
 "metadata": {
  "kernelspec": {
   "display_name": "Python 2",
   "language": "python",
   "name": "python2"
  },
  "language_info": {
   "codemirror_mode": {
    "name": "ipython",
    "version": 2
   },
   "file_extension": ".py",
   "mimetype": "text/x-python",
   "name": "python",
   "nbconvert_exporter": "python",
   "pygments_lexer": "ipython2",
   "version": "2.7.11"
  }
 },
 "nbformat": 4,
 "nbformat_minor": 0
}
