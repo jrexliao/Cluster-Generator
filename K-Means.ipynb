{
 "cells": [
  {
   "cell_type": "code",
   "execution_count": 9,
   "metadata": {
    "collapsed": true
   },
   "outputs": [],
   "source": [
    "import random\n",
    "import math\n",
    "import time"
   ]
  },
  {
   "cell_type": "code",
   "execution_count": 10,
   "metadata": {
    "collapsed": false
   },
   "outputs": [],
   "source": [
    "\"\"\"kmeans takes in a list of lists, which represents a list of data\n",
    "points, an integer indicating the number of clusters, a threshold\n",
    "value, a float, of when to stop running the algorithm, and another\n",
    "integer, representing the number of dimensions of the data. kmeans\n",
    "outputs a list of clusters, which are represented as lists of data,\n",
    "which are represented as lists.\"\"\"\n",
    "def kmeans(data, numclusters, threshold, dim):\n",
    "    \"\"\"Initializes all necessary placeholders and other variables,\n",
    "    and starts timing. centers will contain the centers of clusters,\n",
    "    bign is the number of data, numchanges is number of changes, and\n",
    "    since the algorithm is going through the data the first time, the\n",
    "    number of changes is the number of data. mindist is the minimum\n",
    "    distance that a center is from a given point. member is the membership\n",
    "    of the current data point being investigated, clusters is the final\n",
    "    list of clusters that will be outputted.\"\"\"\n",
    "    start = time.time()\n",
    "    centers = []\n",
    "    bign = len(data)\n",
    "    numchanges = bign\n",
    "    mindist = 0\n",
    "    member = 0\n",
    "    members = []\n",
    "    clusters = []\n",
    "    \n",
    "    \"\"\"Runs a for loop to put the number of clusters lists into the\n",
    "    final return list, and sets the first number of clusters data\n",
    "    points as the initial centers.\"\"\"\n",
    "    for i in range(0, numclusters):\n",
    "        clusters.append([])\n",
    "        centers.append(data[i])\n",
    "    \n",
    "    \"\"\"intializes the members to be -1 so that the first run through\n",
    "    will have a high number of changes so the while loop will run.\"\"\"\n",
    "    for i in range(0, bign):\n",
    "        members.append(-1)\n",
    "    \n",
    "    \"\"\"Runs a while loop as long as the proportion of the number of\n",
    "    changes is larger than the user-input threshold value. Then resets\n",
    "    clusters to be empty and adds in the appropriate lists that represent\n",
    "    each cluster. Also resets the number of changes back to 0.\"\"\"\n",
    "    while 1.0 * numchanges / bign > threshold:\n",
    "        clusters = []\n",
    "        for i in range(0, numclusters):\n",
    "            clusters.append([])\n",
    "        numchanges = 0\n",
    "        \"\"\"Runs a for loop through the number of data, and marks the\n",
    "        distance between that data point and the first center as the\n",
    "        minimum and sets its membership to 0, so that we have a value\n",
    "        we can compare the rest to.\"\"\"\n",
    "        for i in range(0, bign):\n",
    "            mindist = distance(data[i], centers[0], dim)\n",
    "            member = 0\n",
    "            \"\"\"Runs a for loop through the number of clusters/the\n",
    "            number of centers, so that we can check the distance between\n",
    "            the data point in question and every cluster center, and if\n",
    "            a center is closer than the present closest one, reset the\n",
    "            smallest distance and candidate membership.\"\"\"\n",
    "            for j in range(1, numclusters):\n",
    "                newdist = distance(data[i], centers[j], dim)\n",
    "                if newdist < mindist:\n",
    "                    mindist = newdist\n",
    "                    member = j\n",
    "            \"\"\"if the membership has changed, update the membership and\n",
    "            add 1 to the number of changes, and then append the data point\n",
    "            to the correct cluster.\"\"\"\n",
    "            if member != members[i]:\n",
    "                numchanges += 1\n",
    "                members[i] = member\n",
    "            clusters[member].append(data[i])\n",
    "        \"\"\"update the cluster centers once the clusters have been created.\"\"\"\n",
    "        centers = updateclustercenter(clusters, dim)\n",
    "        \n",
    "    \"\"\"Stops timing and prints the time the program took.\"\"\"\n",
    "    end = time.time()\n",
    "    print \"Run time: \", end - start\n",
    "        \n",
    "    return clusters"
   ]
  },
  {
   "cell_type": "code",
   "execution_count": 3,
   "metadata": {
    "collapsed": true
   },
   "outputs": [],
   "source": [
    "\"\"\"Distance takes two data points, data1 and data2, both of which are lists,\n",
    "and an integer representing the number of dimensions, and calculates the\n",
    "square of the distance betwee those two points.\"\"\"\n",
    "def distance(data1, data2, dim):\n",
    "    \"\"\"sets distance to 0, so we can start accumulating later.\"\"\"\n",
    "    distance = 0\n",
    "    \n",
    "    \"\"\"for every dimension, square the difference between the two data\n",
    "    points, and add it to distance to get the square of the distance.\"\"\"\n",
    "    for i in range(0, dim):\n",
    "        distance += (data1[i] - data2[i]) ** 2\n",
    "        \n",
    "    return distance"
   ]
  },
  {
   "cell_type": "code",
   "execution_count": 4,
   "metadata": {
    "collapsed": false
   },
   "outputs": [],
   "source": [
    "\"\"\"updateclustercenter takes a list of list of lists, data, which is a \n",
    "list that contains lists, each of which represents one cluster, and in\n",
    "those sub-lists are lists representing data. updateclustercenter also\n",
    "takes the dimensions of the data as an input, an integer. Then it returns\n",
    "a new list of centers that are the average of the data in each cluster.\"\"\"\n",
    "def updateclustercenter(data, dim):\n",
    "    \"\"\"Initialize the centers list to be empty, and the average to be 0.\"\"\"\n",
    "    centers = []\n",
    "    avg = 0\n",
    "    \n",
    "    \"\"\"Runs a for loop through the number of clusters, and sets a temp\n",
    "    variable, that will contain the new center, to be empty.\"\"\"\n",
    "    for i in range(0, len(data)):\n",
    "        temp = []\n",
    "        \"\"\"Runs a for loop through the number of dimensions and sets the\n",
    "        average value to be zero at the beginning of calculating the\n",
    "        average of each dimension.\"\"\"\n",
    "        for j in range(0, dim):\n",
    "            avg = 0\n",
    "            \"\"\"Runs a for loop through the number of data points in a given\n",
    "            cluster, then adds that data point's value at that dimension.\n",
    "            Then appends the total divided by the number of data to the temp\n",
    "            variable that will hold the new center.\"\"\"\n",
    "            for k in range(0, len(data[i])):\n",
    "                avg += data[i][k][j]\n",
    "            if len(data[i]) == 0:\n",
    "                centers.append(data[i])\n",
    "            else:\n",
    "                temp.append(1.0 * avg / len(data[i]))\n",
    "        \"\"\"Appends the new center to the list of centers.\"\"\"\n",
    "        centers.append(temp)\n",
    "        \n",
    "    return centers"
   ]
  },
  {
   "cell_type": "code",
   "execution_count": 14,
   "metadata": {
    "collapsed": false
   },
   "outputs": [
    {
     "name": "stdout",
     "output_type": "stream",
     "text": [
      "Run time:  0.000736951828003\n",
      "[[[86.12434665897868, 4.254972888025712, 65.70644647650877, 2], [86.17418293023492, 4.344640395834963, 65.92195052036676, 2], [85.70879343871637, 3.878102757178227, 65.6539906718589, 2], [86.17568215576341, 4.3448731661355255, 65.92169416985325, 2], [85.86271333112835, 3.8330766511619703, 65.70156130948519, 2], [85.86271333112835, 3.8330766511619703, 65.70156130948519, 2], [85.86155984017805, 3.8373592804576346, 65.70266343433453, 2], [85.70879343871637, 3.878102757178227, 65.6539906718589, 2], [86.17568215576341, 4.3448731661355255, 65.92169416985325, 2], [85.86155984017805, 3.8373592804576346, 65.70266343433453, 2], [85.86801854434688, 3.837246930949324, 65.70313351506772, 2], [86.12266596901966, 4.254860912027346, 65.70836516884138, 2], [85.86155984017805, 3.8373592804576346, 65.70266343433453, 2], [86.17568215576341, 4.3448731661355255, 65.92169416985325, 2], [85.86271333112835, 3.8330766511619703, 65.70156130948519, 2]], [[70.16142022562086, 34.333286634081944, 79.16020918069071, 0], [70.16164777694954, 34.62376839742906, 79.15987496581867, 0], [70.16164777694954, 34.62376839742906, 79.15987496581867, 0], [70.15656280901672, 34.3329983818501, 79.15836841664435, 0], [70.64058532595521, 34.771514415978196, 79.16696312878591, 0], [70.16142022562086, 34.333286634081944, 79.16020918069071, 0], [70.16142022562086, 34.333286634081944, 79.16020918069071, 0], [70.64058532595521, 34.771514415978196, 79.16696312878591, 0], [70.74450749007912, 34.7779505983039, 78.91023047186525, 0]], [[69.98923738286247, 77.04309965048388, 37.67855273582586, 1], [70.07914331011946, 77.07265335286185, 37.83722031994772, 1], [70.06308217941151, 77.07140974524513, 38.24435510555343, 1], [70.22620754372045, 77.18281437463678, 38.23689999215477, 1], [70.07902331657847, 77.07429284407897, 37.84304038033347, 1], [69.99266020103089, 77.04595226095951, 37.677730114175525, 1], [70.22530271879073, 77.18331718039714, 38.24047733371053, 1], [70.06308217941151, 77.07140974524513, 38.24435510555343, 1], [70.06440050562288, 77.06965700511317, 38.244167369599126, 1], [69.98736788956168, 77.04416009706203, 37.67916901579098, 1], [69.98923738286247, 77.04309965048388, 37.67855273582586, 1], [70.07902331657847, 77.07429284407897, 37.84304038033347, 1]]]\n"
     ]
    }
   ],
   "source": [
    "print kmeans([[86.12434665897868, 4.254972888025712, 65.70644647650877, 2],\n",
    "              [70.16142022562086, 34.333286634081944, 79.16020918069071, 0],\n",
    "              [70.16164777694954, 34.62376839742906, 79.15987496581867, 0],\n",
    "              [86.17418293023492, 4.344640395834963, 65.92195052036676, 2],\n",
    "              [69.98923738286247, 77.04309965048388, 37.67855273582586, 1],\n",
    "              [85.70879343871637, 3.878102757178227, 65.6539906718589, 2],\n",
    "              [70.07914331011946, 77.07265335286185, 37.83722031994772, 1],\n",
    "              [86.17568215576341, 4.3448731661355255, 65.92169416985325, 2],\n",
    "              [70.16164777694954, 34.62376839742906, 79.15987496581867, 0],\n",
    "              [70.15656280901672, 34.3329983818501, 79.15836841664435, 0],\n",
    "              [85.86271333112835, 3.8330766511619703, 65.70156130948519, 2],\n",
    "              [85.86271333112835, 3.8330766511619703, 65.70156130948519, 2],\n",
    "              [70.06308217941151, 77.07140974524513, 38.24435510555343, 1],\n",
    "              [85.86155984017805, 3.8373592804576346, 65.70266343433453, 2],\n",
    "              [70.22620754372045, 77.18281437463678, 38.23689999215477, 1],\n",
    "              [70.64058532595521, 34.771514415978196, 79.16696312878591, 0],\n",
    "              [85.70879343871637, 3.878102757178227, 65.6539906718589, 2],\n",
    "              [86.17568215576341, 4.3448731661355255, 65.92169416985325, 2],\n",
    "              [85.86155984017805, 3.8373592804576346, 65.70266343433453, 2],\n",
    "              [70.07902331657847, 77.07429284407897, 37.84304038033347, 1],\n",
    "              [85.86801854434688, 3.837246930949324, 65.70313351506772, 2],\n",
    "              [69.99266020103089, 77.04595226095951, 37.677730114175525, 1],\n",
    "              [70.22530271879073, 77.18331718039714, 38.24047733371053, 1],\n",
    "              [70.16142022562086, 34.333286634081944, 79.16020918069071, 0],\n",
    "              [86.12266596901966, 4.254860912027346, 65.70836516884138, 2],\n",
    "              [70.16142022562086, 34.333286634081944, 79.16020918069071, 0],\n",
    "              [70.06308217941151, 77.07140974524513, 38.24435510555343, 1],\n",
    "              [70.64058532595521, 34.771514415978196, 79.16696312878591, 0],\n",
    "              [85.86155984017805, 3.8373592804576346, 65.70266343433453, 2],\n",
    "              [70.06440050562288, 77.06965700511317, 38.244167369599126, 1],\n",
    "              [86.17568215576341, 4.3448731661355255, 65.92169416985325, 2],\n",
    "              [70.74450749007912, 34.7779505983039, 78.91023047186525, 0],\n",
    "              [69.98736788956168, 77.04416009706203, 37.67916901579098, 1],\n",
    "              [69.98923738286247, 77.04309965048388, 37.67855273582586, 1],\n",
    "              [70.07902331657847, 77.07429284407897, 37.84304038033347, 1],\n",
    "              [85.86271333112835, 3.8330766511619703, 65.70156130948519, 2]],\n",
    "             3, 1.0 / 18, 3)"
   ]
  },
  {
   "cell_type": "code",
   "execution_count": null,
   "metadata": {
    "collapsed": true
   },
   "outputs": [],
   "source": []
  }
 ],
 "metadata": {
  "kernelspec": {
   "display_name": "Python 2",
   "language": "python",
   "name": "python2"
  },
  "language_info": {
   "codemirror_mode": {
    "name": "ipython",
    "version": 2
   },
   "file_extension": ".py",
   "mimetype": "text/x-python",
   "name": "python",
   "nbconvert_exporter": "python",
   "pygments_lexer": "ipython2",
   "version": "2.7.11"
  }
 },
 "nbformat": 4,
 "nbformat_minor": 0
}
