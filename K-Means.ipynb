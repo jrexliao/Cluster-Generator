{
 "cells": [
  {
   "cell_type": "code",
   "execution_count": 1,
   "metadata": {
    "collapsed": false
   },
   "outputs": [],
   "source": [
    "import random\n",
    "import math\n",
    "import time\n",
    "import csv\n",
    "from sklearn.cluster import KMeans\n",
    "import numpy as np"
   ]
  },
  {
   "cell_type": "code",
   "execution_count": 20,
   "metadata": {
    "collapsed": false
   },
   "outputs": [],
   "source": [
    "\"\"\"kmeans takes in a list of lists, which represents a list of data\n",
    "points, an integer indicating the number of clusters, a threshold\n",
    "value, a float, of when to stop running the algorithm, and another\n",
    "integer, representing the number of dimensions of the data. kmeans\n",
    "outputs a list of clusters, which are represented as lists of data,\n",
    "which are represented as lists.\"\"\"\n",
    "def kmeans(filename, numclusters, threshold, dim):\n",
    "    \"\"\"Initializes all necessary placeholders and other variables,\n",
    "    and starts timing. centers will contain the centers of clusters,\n",
    "    bign is the number of data, numchanges is number of changes, and\n",
    "    since the algorithm is going through the data the first time, the\n",
    "    number of changes is the number of data. mindist is the minimum\n",
    "    distance that a center is from a given point. member is the membership\n",
    "    of the current data point being investigated, clusters is the final\n",
    "    list of clusters that will be outputted.\"\"\"\n",
    "    data = getinput(filename)\n",
    "    start = time.time()\n",
    "    centers = []\n",
    "    bign = len(data)\n",
    "    numchanges = bign\n",
    "    mindit = 0\n",
    "    member = 0\n",
    "    members = []\n",
    "    clusters = []\n",
    "    writ = []\n",
    "    \n",
    "    stride = len(data) // numclusters\n",
    "    for i in range(0, len(data), stride):\n",
    "        centers.append(data[i])\n",
    "    \n",
    "    \"\"\"Runs a for loop to put the number of clusters lists into the\n",
    "    final return list, and sets the first number of clusters data\n",
    "    points as the initial centers.\"\"\"\n",
    "    for i in range(0, numclusters):\n",
    "        clusters.append([])\n",
    "    \n",
    "    \"\"\"intializes the members to be -1 so that the first run through\n",
    "    will have a high number of changes so the while loop will run.\"\"\"\n",
    "    for i in range(0, bign):\n",
    "        members.append(-1)\n",
    "        \n",
    "    updatecenter = 0\n",
    "    distancetime = 0\n",
    "    numdist = 0\n",
    "    blah = 0\n",
    "    \n",
    "    \"\"\"Runs a while loop as long as the proportion of the number of\n",
    "    changes is larger than the user-input threshold value. Then resets\n",
    "    clusters to be empty and adds in the appropriate lists that represent\n",
    "    each cluster. Also resets the number of changes back to 0.\"\"\"\n",
    "    # while 1.0 * numchanges / bign > threshold:\n",
    "    while numchanges == bign:\n",
    "        blah += 1\n",
    "        clusters = []\n",
    "        for i in range(0, numclusters):\n",
    "            clusters.append([])\n",
    "        numchanges = 0\n",
    "        \"\"\"Runs a for loop through the number of data, and marks the\n",
    "        distance between that data point and the first center as the\n",
    "        minimum and sets its membership to 0, so that we have a value\n",
    "        we can compare the rest to.\"\"\"\n",
    "        for i in range(0, bign):\n",
    "            k = 0\n",
    "            for j in range(0,numclusters):\n",
    "                if (len(centers[j]) > 0):\n",
    "                    k = j\n",
    "                    break\n",
    "            start1 = time.time()\n",
    "            mindist = distance(data[i], centers[k], dim)\n",
    "            numdist += 1\n",
    "            member = k\n",
    "            \"\"\"Runs a for loop through the number of clusters/the\n",
    "            number of centers, so that we can check the distance between\n",
    "            the data point in question and every cluster center, and if\n",
    "            a center is closer than the present closest one, reset the\n",
    "            smallest distance and candidate membership.\"\"\"\n",
    "            for j in range(k+1, numclusters):\n",
    "                if len(centers[j]) == 0:\n",
    "                    continue\n",
    "                newdist = distance(data[i], centers[j], dim)\n",
    "                numdist += 1\n",
    "                if newdist < mindist:\n",
    "                    mindist = newdist\n",
    "                    member = j\n",
    "            \"\"\"if the membership has changed, update the membership and\n",
    "            add 1 to the number of changes, and then append the data point\n",
    "            to the correct cluster.\"\"\"\n",
    "            if member != members[i]:\n",
    "                numchanges += 1\n",
    "                members[i] = member\n",
    "            end1 = time.time()\n",
    "            distancetime += end1 - start1\n",
    "            clusters[member].append(data[i])\n",
    "        \"\"\"update the cluster centers once the clusters have been created.\"\"\"\n",
    "        start1 = time.time()\n",
    "        centers = updateclustercenter(clusters, dim)\n",
    "        end1 = time.time()\n",
    "        updatecenter += end1 - start1\n",
    "        if len(centers) != numclusters:\n",
    "            print \"Error!!!\", len(centers)\n",
    "\n",
    "    \"\"\"Stops timing and prints the time the program took.\"\"\"\n",
    "    end = time.time()\n",
    "    print \"Run time: \", end - start\n",
    "    \n",
    "    output(members, centers, clusters)"
   ]
  },
  {
   "cell_type": "code",
   "execution_count": 3,
   "metadata": {
    "collapsed": false
   },
   "outputs": [],
   "source": [
    "def centergen(data, numcluster, dim):\n",
    "    dataperclust = len(data) // numcluster\n",
    "    temp = []\n",
    "    for j in range(0, dim):\n",
    "        temp = np.append(temp, 0)\n",
    "    centers = np.array([temp1])\n",
    "    temp = np.array([temp])\n",
    "    \n",
    "    n = 0\n",
    "    for i in range(0, numcluster):\n",
    "        for j in range(0, dim):\n",
    "            temp[j] = 0\n",
    "        for j in range(0, dataperclust):\n",
    "            for k in range(0, dim):\n",
    "                temp[k] += data[n][k]\n",
    "            n += 1\n",
    "        for j in range(0, dim):\n",
    "            temp[j] /= dataperclust\n",
    "        centers.append(centers, temp, axis=0)\n",
    "    \n",
    "    np.delete(centers, 0, 0)\n",
    "        \n",
    "    return centers"
   ]
  },
  {
   "cell_type": "code",
   "execution_count": 4,
   "metadata": {
    "collapsed": true
   },
   "outputs": [],
   "source": [
    "\"\"\"Distance takes two data points, data1 and data2, both of which are lists,\n",
    "and an integer representing the number of dimensions, and calculates the\n",
    "square of the distance betwee those two points.\"\"\"\n",
    "def distance(data1, data2, dim):\n",
    "    \"\"\"sets distance to 0, so we can start accumulating later.\"\"\"\n",
    "    distance = 0.0\n",
    "    \n",
    "    \"\"\"for every dimension, square the difference between the two data\n",
    "    points, and add it to distance to get the square of the distance.\"\"\"\n",
    "    for i in range(0, dim):\n",
    "        distance += (data1[i] - data2[i]) ** 2\n",
    "        \n",
    "    return distance"
   ]
  },
  {
   "cell_type": "code",
   "execution_count": 18,
   "metadata": {
    "collapsed": false
   },
   "outputs": [],
   "source": [
    "\"\"\"updateclustercenter takes a list of list of lists, data, which is a \n",
    "list that contains lists, each of which represents one cluster, and in\n",
    "those sub-lists are lists representing data. updateclustercenter also\n",
    "takes the dimensions of the data as an input, an integer. Then it returns\n",
    "a new list of centers that are the average of the data in each cluster.\"\"\"\n",
    "def updateclustercenter(clusters, dim):\n",
    "    \"\"\"Initialize the centers list to be empty, and the average to be 0.\"\"\"\n",
    "    temp = []\n",
    "    centers = []\n",
    "    avg = 0\n",
    "    \n",
    "    \"\"\"Runs a for loop through the number of clusters, and sets a temp\n",
    "    variable, that will contain the new center, to be empty.\"\"\"\n",
    "    for i in range(0, len(clusters)):\n",
    "        if len(clusters[i]) == 0:\n",
    "            centers.append(centers, clusters[len(clusters) // 3], axis=0)\n",
    "            continue\n",
    "        temp = []\n",
    "        \"\"\"Runs a for loop through the number of dimensions and sets the\n",
    "        average value to be zero at the beginning of calculating the\n",
    "        average of each dimension.\"\"\"\n",
    "        for j in range(0, dim):\n",
    "            avg = 0.0\n",
    "            \"\"\"Runs a for loop through the number of data points in a given\n",
    "            cluster, then adds that data point's value at that dimension.\n",
    "            Then appends the total divided by the number of data to the temp\n",
    "            variable that will hold the new center.\"\"\"\n",
    "            for k in range(0, len(clusters[i])):\n",
    "                avg += clusters[i][k][j]\n",
    "            temp.append(avg / len(clusters[i]))\n",
    "        \"\"\"Appends the new center to the list of centers.\"\"\"\n",
    "        centers.append(temp)\n",
    "    return centers"
   ]
  },
  {
   "cell_type": "code",
   "execution_count": 6,
   "metadata": {
    "collapsed": false
   },
   "outputs": [],
   "source": [
    "def getinput(filename):\n",
    "    finaldata = []\n",
    "    onedata = []\n",
    "    temp = ''\n",
    "    \n",
    "    f = open(filename, 'r')\n",
    "    initdata = f.readlines()\n",
    "    \n",
    "    for i in range(0, len(initdata)):\n",
    "        j = 0\n",
    "        while initdata[i][j] != '\\r':\n",
    "            if initdata[i][j] == ',':\n",
    "                onedata.append(float(temp))\n",
    "                temp = ''\n",
    "            else:\n",
    "                temp += initdata[i][j]\n",
    "            j += 1\n",
    "        onedata.append(float(temp))\n",
    "        finaldata.append(onedata)\n",
    "        onedata = []\n",
    "        temp = ''\n",
    "        \n",
    "    return finaldata"
   ]
  },
  {
   "cell_type": "code",
   "execution_count": 7,
   "metadata": {
    "collapsed": false
   },
   "outputs": [],
   "source": [
    "def output(members, centers, data):\n",
    "    writ = []\n",
    "    writ2 = []\n",
    "    j = 0\n",
    "    temp = 0\n",
    "    \n",
    "    for i in range(0, len(members)):\n",
    "        writ.append([members[i]])\n",
    "        \n",
    "    for i in range(0, len(centers)):\n",
    "        writ2.append(centers[i].append(len(data[i])))\n",
    "            \n",
    "    with open(\"kmeanscenters.csv\", 'wb') as resultFile:\n",
    "        wr = csv.writer(resultFile)\n",
    "        wr.writerows(centers)\n",
    "    \n",
    "    with open(\"kmeanslabels.csv\",'wb') as resultFile:\n",
    "        wr = csv.writer(resultFile)\n",
    "        wr.writerows(writ)"
   ]
  },
  {
   "cell_type": "code",
   "execution_count": 21,
   "metadata": {
    "collapsed": false
   },
   "outputs": [
    {
     "name": "stdout",
     "output_type": "stream",
     "text": [
      "Run time:  2.62849783897\n",
      "Time:  1.44773697853\n",
      "[3 6 9 ..., 9 7 2]\n"
     ]
    }
   ],
   "source": [
    "kmeans('output.csv', 12, 0.01, 3)\n",
    "start = time.time()\n",
    "X = getinput('output.csv')\n",
    "kmeans = KMeans(n_clusters=12, random_state=0).fit(X)\n",
    "end = time.time()\n",
    "print 'Time: ', end - start\n",
    "print kmeans.labels_"
   ]
  },
  {
   "cell_type": "code",
   "execution_count": null,
   "metadata": {
    "collapsed": true
   },
   "outputs": [],
   "source": []
  }
 ],
 "metadata": {
  "kernelspec": {
   "display_name": "Python 2",
   "language": "python",
   "name": "python2"
  },
  "language_info": {
   "codemirror_mode": {
    "name": "ipython",
    "version": 2
   },
   "file_extension": ".py",
   "mimetype": "text/x-python",
   "name": "python",
   "nbconvert_exporter": "python",
   "pygments_lexer": "ipython2",
   "version": "2.7.11"
  }
 },
 "nbformat": 4,
 "nbformat_minor": 0
}
